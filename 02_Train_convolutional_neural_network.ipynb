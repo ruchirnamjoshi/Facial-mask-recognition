{
 "cells": [
  {
   "cell_type": "markdown",
   "id": "690af0ea",
   "metadata": {},
   "source": [
    "# The Deep Learning Model"
   ]
  },
  {
   "cell_type": "markdown",
   "id": "5b3536ff",
   "metadata": {},
   "source": [
    "## Step-1--> Load The Preprocessed Data"
   ]
  },
  {
   "cell_type": "code",
   "execution_count": 45,
   "id": "130f3f9b",
   "metadata": {},
   "outputs": [],
   "source": [
    "#import libraries\n",
    "import os\n",
    "import numpy as np\n",
    "import pandas as pd\n",
    "import cv2\n",
    "import gc\n",
    "from tqdm import tqdm\n",
    "from glob import glob"
   ]
  },
  {
   "cell_type": "code",
   "execution_count": 46,
   "id": "4b43c03b",
   "metadata": {},
   "outputs": [],
   "source": [
    "# Load The Preprocessed Data\n",
    "data = np.load('./data/data_preprocess1.npz')"
   ]
  },
  {
   "cell_type": "code",
   "execution_count": 47,
   "id": "8284b2b0",
   "metadata": {},
   "outputs": [],
   "source": [
    "X = data['arr_0']\n",
    "y = data['arr_1']"
   ]
  },
  {
   "cell_type": "code",
   "execution_count": 48,
   "id": "7ebaf91e",
   "metadata": {},
   "outputs": [
    {
     "data": {
      "text/plain": [
       "((9959, 100, 100, 3), (9959,))"
      ]
     },
     "execution_count": 48,
     "metadata": {},
     "output_type": "execute_result"
    }
   ],
   "source": [
    "X.shape , y.shape"
   ]
  },
  {
   "cell_type": "code",
   "execution_count": 49,
   "id": "3eb08d63",
   "metadata": {},
   "outputs": [
    {
     "data": {
      "text/plain": [
       "array(['Mask', 'Mask_Chin', 'Mask_Mouth_Chin', 'Mask_Nose_Mouth'],\n",
       "      dtype='<U15')"
      ]
     },
     "execution_count": 49,
     "metadata": {},
     "output_type": "execute_result"
    }
   ],
   "source": [
    "np.unique(y)"
   ]
  },
  {
   "cell_type": "code",
   "execution_count": 50,
   "id": "33225db8",
   "metadata": {},
   "outputs": [],
   "source": [
    "from sklearn.preprocessing import OneHotEncoder"
   ]
  },
  {
   "cell_type": "code",
   "execution_count": 51,
   "id": "b138c394",
   "metadata": {},
   "outputs": [],
   "source": [
    "onehot = OneHotEncoder()\n",
    "y_onehot = onehot.fit_transform(y.reshape(-1,1))"
   ]
  },
  {
   "cell_type": "code",
   "execution_count": 52,
   "id": "bf5ea4bf",
   "metadata": {},
   "outputs": [],
   "source": [
    "y_array = y_onehot.toarray()"
   ]
  },
  {
   "cell_type": "code",
   "execution_count": 53,
   "id": "7f7e31e6",
   "metadata": {},
   "outputs": [
    {
     "data": {
      "text/plain": [
       "(9959, 4)"
      ]
     },
     "execution_count": 53,
     "metadata": {},
     "output_type": "execute_result"
    }
   ],
   "source": [
    "y_array.shape"
   ]
  },
  {
   "cell_type": "markdown",
   "id": "ff32d522",
   "metadata": {},
   "source": [
    "# Step-2 --> Split The Data in Train and Test Data"
   ]
  },
  {
   "cell_type": "code",
   "execution_count": 54,
   "id": "06b1c86b",
   "metadata": {},
   "outputs": [],
   "source": [
    "from sklearn.model_selection import train_test_split\n",
    "x_train , x_test ,y_train , y_test = train_test_split(X,y_array,test_size=0.2,random_state=42)"
   ]
  },
  {
   "cell_type": "code",
   "execution_count": 55,
   "id": "5d044f84",
   "metadata": {},
   "outputs": [
    {
     "data": {
      "text/plain": [
       "((7967, 100, 100, 3), (1992, 100, 100, 3), (7967, 4), (1992, 4))"
      ]
     },
     "execution_count": 55,
     "metadata": {},
     "output_type": "execute_result"
    }
   ],
   "source": [
    "x_train.shape , x_test.shape ,y_train.shape , y_test.shape"
   ]
  },
  {
   "cell_type": "markdown",
   "id": "e125cf4a",
   "metadata": {},
   "source": [
    "# Step-3 --> Convolotional Neural Network"
   ]
  },
  {
   "cell_type": "code",
   "execution_count": 56,
   "id": "6d24d754",
   "metadata": {},
   "outputs": [],
   "source": [
    "import tensorflow as tf\n",
    "from tensorflow.keras import layers\n",
    "from tensorflow.keras import Sequential"
   ]
  },
  {
   "cell_type": "code",
   "execution_count": 57,
   "id": "f0620aa2",
   "metadata": {},
   "outputs": [],
   "source": [
    "model = Sequential([\n",
    "    layers.Conv2D(filters=16,kernel_size=3,padding='same',input_shape=(100,100,3),activation='relu'),\n",
    "    layers.MaxPool2D(),\n",
    "    layers.Conv2D(32,3,padding='same',activation = 'relu'),\n",
    "    layers.MaxPool2D(),\n",
    "    layers.Conv2D(64,3,padding='same',activation = 'relu'),\n",
    "    layers.MaxPool2D(),\n",
    "    layers.Flatten(),\n",
    "    layers.Dense(192,activation='relu'),\n",
    "    layers.Dense(28,activation='relu'),\n",
    "    layers.Dense(4,activation='sigmoid')\n",
    "    \n",
    "])\n",
    "\n",
    "model.compile(optimizer=tf.keras.optimizers.Adam(learning_rate = 0.001),\n",
    "              loss=tf.keras.losses.categorical_crossentropy,metrics=['accuracy'])"
   ]
  },
  {
   "cell_type": "code",
   "execution_count": 58,
   "id": "bfff99ee",
   "metadata": {},
   "outputs": [
    {
     "name": "stdout",
     "output_type": "stream",
     "text": [
      "Model: \"sequential_4\"\n",
      "_________________________________________________________________\n",
      "Layer (type)                 Output Shape              Param #   \n",
      "=================================================================\n",
      "conv2d_20 (Conv2D)           (None, 100, 100, 16)      448       \n",
      "_________________________________________________________________\n",
      "max_pooling2d_20 (MaxPooling (None, 50, 50, 16)        0         \n",
      "_________________________________________________________________\n",
      "conv2d_21 (Conv2D)           (None, 50, 50, 32)        4640      \n",
      "_________________________________________________________________\n",
      "max_pooling2d_21 (MaxPooling (None, 25, 25, 32)        0         \n",
      "_________________________________________________________________\n",
      "conv2d_22 (Conv2D)           (None, 25, 25, 64)        18496     \n",
      "_________________________________________________________________\n",
      "max_pooling2d_22 (MaxPooling (None, 12, 12, 64)        0         \n",
      "_________________________________________________________________\n",
      "flatten_4 (Flatten)          (None, 9216)              0         \n",
      "_________________________________________________________________\n",
      "dense_16 (Dense)             (None, 192)               1769664   \n",
      "_________________________________________________________________\n",
      "dense_17 (Dense)             (None, 28)                5404      \n",
      "_________________________________________________________________\n",
      "dense_18 (Dense)             (None, 4)                 116       \n",
      "=================================================================\n",
      "Total params: 1,798,768\n",
      "Trainable params: 1,798,768\n",
      "Non-trainable params: 0\n",
      "_________________________________________________________________\n"
     ]
    }
   ],
   "source": [
    "model.summary()"
   ]
  },
  {
   "cell_type": "markdown",
   "id": "e4c28bec",
   "metadata": {},
   "source": [
    "# Step-4--> Training the model"
   ]
  },
  {
   "cell_type": "code",
   "execution_count": 59,
   "id": "f3413312",
   "metadata": {},
   "outputs": [
    {
     "name": "stdout",
     "output_type": "stream",
     "text": [
      "Epoch 1/10\n"
     ]
    },
    {
     "name": "stderr",
     "output_type": "stream",
     "text": [
      "2022-05-15 20:28:32.331738: I tensorflow/core/grappler/optimizers/custom_graph_optimizer_registry.cc:112] Plugin optimizer for device_type GPU is enabled.\n"
     ]
    },
    {
     "name": "stdout",
     "output_type": "stream",
     "text": [
      "265/266 [============================>.] - ETA: 0s - loss: 0.2270 - accuracy: 0.9175"
     ]
    },
    {
     "name": "stderr",
     "output_type": "stream",
     "text": [
      "2022-05-15 20:28:38.938901: I tensorflow/core/grappler/optimizers/custom_graph_optimizer_registry.cc:112] Plugin optimizer for device_type GPU is enabled.\n"
     ]
    },
    {
     "name": "stdout",
     "output_type": "stream",
     "text": [
      "266/266 [==============================] - 7s 26ms/step - loss: 0.2267 - accuracy: 0.9175 - val_loss: 0.1161 - val_accuracy: 0.9598\n",
      "Epoch 2/10\n",
      "266/266 [==============================] - 7s 25ms/step - loss: 0.0635 - accuracy: 0.9779 - val_loss: 0.0650 - val_accuracy: 0.9799\n",
      "Epoch 3/10\n",
      "266/266 [==============================] - 7s 25ms/step - loss: 0.0424 - accuracy: 0.9846 - val_loss: 0.1188 - val_accuracy: 0.9639\n",
      "Epoch 4/10\n",
      "266/266 [==============================] - 7s 25ms/step - loss: 0.0262 - accuracy: 0.9908 - val_loss: 0.0626 - val_accuracy: 0.9824\n",
      "Epoch 5/10\n",
      "266/266 [==============================] - 7s 25ms/step - loss: 0.0178 - accuracy: 0.9944 - val_loss: 0.0513 - val_accuracy: 0.9874\n",
      "Epoch 6/10\n",
      "266/266 [==============================] - 7s 25ms/step - loss: 0.0107 - accuracy: 0.9966 - val_loss: 0.0811 - val_accuracy: 0.9819\n",
      "Epoch 7/10\n",
      "266/266 [==============================] - 7s 26ms/step - loss: 0.0239 - accuracy: 0.9917 - val_loss: 0.0685 - val_accuracy: 0.9839\n",
      "Epoch 8/10\n",
      "266/266 [==============================] - 7s 26ms/step - loss: 0.0118 - accuracy: 0.9957 - val_loss: 0.0830 - val_accuracy: 0.9814\n",
      "Epoch 9/10\n",
      "266/266 [==============================] - 7s 25ms/step - loss: 0.0016 - accuracy: 0.9997 - val_loss: 0.0780 - val_accuracy: 0.9869\n",
      "Epoch 10/10\n",
      "266/266 [==============================] - 7s 26ms/step - loss: 6.7861e-04 - accuracy: 1.0000 - val_loss: 0.0813 - val_accuracy: 0.9874\n"
     ]
    }
   ],
   "source": [
    "history = model.fit(x=x_train,y=y_train,validation_data=(x_test,y_test),batch_size=30,epochs=10)"
   ]
  },
  {
   "cell_type": "code",
   "execution_count": 60,
   "id": "91b020f7",
   "metadata": {},
   "outputs": [],
   "source": [
    "import pandas as pd\n",
    "import matplotlib.pyplot as plt\n"
   ]
  },
  {
   "cell_type": "code",
   "execution_count": 61,
   "id": "eac9682d",
   "metadata": {},
   "outputs": [],
   "source": [
    "history_df=pd.DataFrame(history.history)"
   ]
  },
  {
   "cell_type": "code",
   "execution_count": 62,
   "id": "6d767072",
   "metadata": {},
   "outputs": [
    {
     "data": {
      "text/html": [
       "<div>\n",
       "<style scoped>\n",
       "    .dataframe tbody tr th:only-of-type {\n",
       "        vertical-align: middle;\n",
       "    }\n",
       "\n",
       "    .dataframe tbody tr th {\n",
       "        vertical-align: top;\n",
       "    }\n",
       "\n",
       "    .dataframe thead th {\n",
       "        text-align: right;\n",
       "    }\n",
       "</style>\n",
       "<table border=\"1\" class=\"dataframe\">\n",
       "  <thead>\n",
       "    <tr style=\"text-align: right;\">\n",
       "      <th></th>\n",
       "      <th>loss</th>\n",
       "      <th>accuracy</th>\n",
       "      <th>val_loss</th>\n",
       "      <th>val_accuracy</th>\n",
       "    </tr>\n",
       "  </thead>\n",
       "  <tbody>\n",
       "    <tr>\n",
       "      <th>0</th>\n",
       "      <td>0.226698</td>\n",
       "      <td>0.917535</td>\n",
       "      <td>0.116074</td>\n",
       "      <td>0.959839</td>\n",
       "    </tr>\n",
       "    <tr>\n",
       "      <th>1</th>\n",
       "      <td>0.063494</td>\n",
       "      <td>0.977909</td>\n",
       "      <td>0.065044</td>\n",
       "      <td>0.979920</td>\n",
       "    </tr>\n",
       "    <tr>\n",
       "      <th>2</th>\n",
       "      <td>0.042367</td>\n",
       "      <td>0.984561</td>\n",
       "      <td>0.118826</td>\n",
       "      <td>0.963856</td>\n",
       "    </tr>\n",
       "    <tr>\n",
       "      <th>3</th>\n",
       "      <td>0.026243</td>\n",
       "      <td>0.990837</td>\n",
       "      <td>0.062587</td>\n",
       "      <td>0.982430</td>\n",
       "    </tr>\n",
       "    <tr>\n",
       "      <th>4</th>\n",
       "      <td>0.017777</td>\n",
       "      <td>0.994352</td>\n",
       "      <td>0.051311</td>\n",
       "      <td>0.987450</td>\n",
       "    </tr>\n",
       "    <tr>\n",
       "      <th>5</th>\n",
       "      <td>0.010744</td>\n",
       "      <td>0.996611</td>\n",
       "      <td>0.081122</td>\n",
       "      <td>0.981928</td>\n",
       "    </tr>\n",
       "    <tr>\n",
       "      <th>6</th>\n",
       "      <td>0.023862</td>\n",
       "      <td>0.991716</td>\n",
       "      <td>0.068526</td>\n",
       "      <td>0.983936</td>\n",
       "    </tr>\n",
       "    <tr>\n",
       "      <th>7</th>\n",
       "      <td>0.011764</td>\n",
       "      <td>0.995732</td>\n",
       "      <td>0.083001</td>\n",
       "      <td>0.981426</td>\n",
       "    </tr>\n",
       "    <tr>\n",
       "      <th>8</th>\n",
       "      <td>0.001573</td>\n",
       "      <td>0.999749</td>\n",
       "      <td>0.078020</td>\n",
       "      <td>0.986948</td>\n",
       "    </tr>\n",
       "    <tr>\n",
       "      <th>9</th>\n",
       "      <td>0.000679</td>\n",
       "      <td>1.000000</td>\n",
       "      <td>0.081280</td>\n",
       "      <td>0.987450</td>\n",
       "    </tr>\n",
       "  </tbody>\n",
       "</table>\n",
       "</div>"
      ],
      "text/plain": [
       "       loss  accuracy  val_loss  val_accuracy\n",
       "0  0.226698  0.917535  0.116074      0.959839\n",
       "1  0.063494  0.977909  0.065044      0.979920\n",
       "2  0.042367  0.984561  0.118826      0.963856\n",
       "3  0.026243  0.990837  0.062587      0.982430\n",
       "4  0.017777  0.994352  0.051311      0.987450\n",
       "5  0.010744  0.996611  0.081122      0.981928\n",
       "6  0.023862  0.991716  0.068526      0.983936\n",
       "7  0.011764  0.995732  0.083001      0.981426\n",
       "8  0.001573  0.999749  0.078020      0.986948\n",
       "9  0.000679  1.000000  0.081280      0.987450"
      ]
     },
     "execution_count": 62,
     "metadata": {},
     "output_type": "execute_result"
    }
   ],
   "source": [
    "history_df"
   ]
  },
  {
   "cell_type": "code",
   "execution_count": 63,
   "id": "1a0b4c1a",
   "metadata": {},
   "outputs": [
    {
     "data": {
      "image/png": "[encoded data removed]",
      "text/plain": [
       "<Figure size 432x288 with 1 Axes>"
      ]
     },
     "metadata": {
      "needs_background": "light"
     },
     "output_type": "display_data"
    }
   ],
   "source": [
    "history_df[['loss','val_loss']].plot(kind='line')\n",
    "plt.xlabel('Epochs')\n",
    "plt.ylabel('Loss')\n",
    "plt.xticks(list(range(10)),list(range(1,11)))\n",
    "plt.show()"
   ]
  },
  {
   "cell_type": "code",
   "execution_count": 64,
   "id": "4e4648ee",
   "metadata": {},
   "outputs": [
    {
     "data": {
      "image/png": "[encoded data removed]",
      "text/plain": [
       "<Figure size 432x288 with 1 Axes>"
      ]
     },
     "metadata": {
      "needs_background": "light"
     },
     "output_type": "display_data"
    }
   ],
   "source": [
    "history_df[['accuracy','val_accuracy']].plot(kind='line')\n",
    "plt.xlabel('Epochs')\n",
    "plt.ylabel('accuracy')\n",
    "plt.xticks(list(range(10)),list(range(1,11)))\n",
    "plt.show()"
   ]
  },
  {
   "cell_type": "code",
   "execution_count": 65,
   "id": "e16aec2c",
   "metadata": {},
   "outputs": [
    {
     "name": "stdout",
     "output_type": "stream",
     "text": [
      "INFO:tensorflow:Assets written to: face_cnn_model/assets\n"
     ]
    }
   ],
   "source": [
    "model.save('face_cnn_model')"
   ]
  },
  {
   "cell_type": "code",
   "execution_count": 66,
   "id": "77b7a81b",
   "metadata": {},
   "outputs": [
    {
     "data": {
      "text/plain": [
       "[array(['Mask', 'Mask_Chin', 'Mask_Mouth_Chin', 'Mask_Nose_Mouth'],\n",
       "       dtype='<U15')]"
      ]
     },
     "execution_count": 66,
     "metadata": {},
     "output_type": "execute_result"
    }
   ],
   "source": [
    "onehot.categories_"
   ]
  },
  {
   "cell_type": "code",
   "execution_count": null,
   "id": "943f5b40",
   "metadata": {},
   "outputs": [],
   "source": []
  }
 ],
 "metadata": {
  "kernelspec": {
   "display_name": "Python 3.9 (tensorflow)",
   "language": "python",
   "name": "tensorflow"
  },
  "language_info": {
   "codemirror_mode": {
    "name": "ipython",
    "version": 3
   },
   "file_extension": ".py",
   "mimetype": "text/x-python",
   "name": "python",
   "nbconvert_exporter": "python",
   "pygments_lexer": "ipython3",
   "version": "3.9.10"
  }
 },
 "nbformat": 4,
 "nbformat_minor": 5
}
